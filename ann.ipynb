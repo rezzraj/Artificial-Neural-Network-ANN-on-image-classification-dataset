{
 "cells": [
  {
   "cell_type": "code",
   "id": "initial_id",
   "metadata": {
    "collapsed": true,
    "ExecuteTime": {
     "end_time": "2025-08-28T21:40:26.681349Z",
     "start_time": "2025-08-28T21:40:26.677724Z"
    }
   },
   "source": [
    "import pandas as pd\n",
    "import torch\n",
    "import torch.nn as nn\n",
    "import torch.optim as optim\n",
    "import pandas as pd\n",
    "from sklearn.model_selection import train_test_split\n",
    "from torch.utils.data import DataLoader, Dataset"
   ],
   "outputs": [],
   "execution_count": 232
  },
  {
   "metadata": {
    "ExecuteTime": {
     "end_time": "2025-08-28T21:40:26.696352Z",
     "start_time": "2025-08-28T21:40:26.690261Z"
    }
   },
   "cell_type": "code",
   "source": "torch.manual_seed(42)",
   "id": "b13446355ebab988",
   "outputs": [
    {
     "data": {
      "text/plain": [
       "<torch._C.Generator at 0x1747e32a0f0>"
      ]
     },
     "execution_count": 233,
     "metadata": {},
     "output_type": "execute_result"
    }
   ],
   "execution_count": 233
  },
  {
   "metadata": {
    "ExecuteTime": {
     "end_time": "2025-08-28T21:40:26.921618Z",
     "start_time": "2025-08-28T21:40:26.702872Z"
    }
   },
   "cell_type": "code",
   "source": [
    "df=pd.read_csv('fmnist_small.csv')\n",
    "df.shape\n"
   ],
   "id": "a4e8c8d31ee4a4d8",
   "outputs": [
    {
     "data": {
      "text/plain": [
       "(6000, 785)"
      ]
     },
     "execution_count": 234,
     "metadata": {},
     "output_type": "execute_result"
    }
   ],
   "execution_count": 234
  },
  {
   "metadata": {
    "ExecuteTime": {
     "end_time": "2025-08-28T21:40:26.943703Z",
     "start_time": "2025-08-28T21:40:26.933147Z"
    }
   },
   "cell_type": "code",
   "source": "df.head()",
   "id": "5336d634fd2259c3",
   "outputs": [
    {
     "data": {
      "text/plain": [
       "   label  pixel1  pixel2  pixel3  pixel4  pixel5  pixel6  pixel7  pixel8  \\\n",
       "0      9       0       0       0       0       0       0       0       0   \n",
       "1      7       0       0       0       0       0       0       0       0   \n",
       "2      0       0       0       0       0       0       1       0       0   \n",
       "3      8       0       0       0       0       0       0       0       0   \n",
       "4      8       0       0       0       0       0       0       0       0   \n",
       "\n",
       "   pixel9  ...  pixel775  pixel776  pixel777  pixel778  pixel779  pixel780  \\\n",
       "0       0  ...         0         7         0        50       205       196   \n",
       "1       0  ...         0         0         0         0         0         0   \n",
       "2       0  ...       142       142       142        21         0         3   \n",
       "3       0  ...         0         0         0         0         0         0   \n",
       "4       0  ...       213       203       174       151       188        10   \n",
       "\n",
       "   pixel781  pixel782  pixel783  pixel784  \n",
       "0       213       165         0         0  \n",
       "1         0         0         0         0  \n",
       "2         0         0         0         0  \n",
       "3         0         0         0         0  \n",
       "4         0         0         0         0  \n",
       "\n",
       "[5 rows x 785 columns]"
      ],
      "text/html": [
       "<div>\n",
       "<style scoped>\n",
       "    .dataframe tbody tr th:only-of-type {\n",
       "        vertical-align: middle;\n",
       "    }\n",
       "\n",
       "    .dataframe tbody tr th {\n",
       "        vertical-align: top;\n",
       "    }\n",
       "\n",
       "    .dataframe thead th {\n",
       "        text-align: right;\n",
       "    }\n",
       "</style>\n",
       "<table border=\"1\" class=\"dataframe\">\n",
       "  <thead>\n",
       "    <tr style=\"text-align: right;\">\n",
       "      <th></th>\n",
       "      <th>label</th>\n",
       "      <th>pixel1</th>\n",
       "      <th>pixel2</th>\n",
       "      <th>pixel3</th>\n",
       "      <th>pixel4</th>\n",
       "      <th>pixel5</th>\n",
       "      <th>pixel6</th>\n",
       "      <th>pixel7</th>\n",
       "      <th>pixel8</th>\n",
       "      <th>pixel9</th>\n",
       "      <th>...</th>\n",
       "      <th>pixel775</th>\n",
       "      <th>pixel776</th>\n",
       "      <th>pixel777</th>\n",
       "      <th>pixel778</th>\n",
       "      <th>pixel779</th>\n",
       "      <th>pixel780</th>\n",
       "      <th>pixel781</th>\n",
       "      <th>pixel782</th>\n",
       "      <th>pixel783</th>\n",
       "      <th>pixel784</th>\n",
       "    </tr>\n",
       "  </thead>\n",
       "  <tbody>\n",
       "    <tr>\n",
       "      <th>0</th>\n",
       "      <td>9</td>\n",
       "      <td>0</td>\n",
       "      <td>0</td>\n",
       "      <td>0</td>\n",
       "      <td>0</td>\n",
       "      <td>0</td>\n",
       "      <td>0</td>\n",
       "      <td>0</td>\n",
       "      <td>0</td>\n",
       "      <td>0</td>\n",
       "      <td>...</td>\n",
       "      <td>0</td>\n",
       "      <td>7</td>\n",
       "      <td>0</td>\n",
       "      <td>50</td>\n",
       "      <td>205</td>\n",
       "      <td>196</td>\n",
       "      <td>213</td>\n",
       "      <td>165</td>\n",
       "      <td>0</td>\n",
       "      <td>0</td>\n",
       "    </tr>\n",
       "    <tr>\n",
       "      <th>1</th>\n",
       "      <td>7</td>\n",
       "      <td>0</td>\n",
       "      <td>0</td>\n",
       "      <td>0</td>\n",
       "      <td>0</td>\n",
       "      <td>0</td>\n",
       "      <td>0</td>\n",
       "      <td>0</td>\n",
       "      <td>0</td>\n",
       "      <td>0</td>\n",
       "      <td>...</td>\n",
       "      <td>0</td>\n",
       "      <td>0</td>\n",
       "      <td>0</td>\n",
       "      <td>0</td>\n",
       "      <td>0</td>\n",
       "      <td>0</td>\n",
       "      <td>0</td>\n",
       "      <td>0</td>\n",
       "      <td>0</td>\n",
       "      <td>0</td>\n",
       "    </tr>\n",
       "    <tr>\n",
       "      <th>2</th>\n",
       "      <td>0</td>\n",
       "      <td>0</td>\n",
       "      <td>0</td>\n",
       "      <td>0</td>\n",
       "      <td>0</td>\n",
       "      <td>0</td>\n",
       "      <td>1</td>\n",
       "      <td>0</td>\n",
       "      <td>0</td>\n",
       "      <td>0</td>\n",
       "      <td>...</td>\n",
       "      <td>142</td>\n",
       "      <td>142</td>\n",
       "      <td>142</td>\n",
       "      <td>21</td>\n",
       "      <td>0</td>\n",
       "      <td>3</td>\n",
       "      <td>0</td>\n",
       "      <td>0</td>\n",
       "      <td>0</td>\n",
       "      <td>0</td>\n",
       "    </tr>\n",
       "    <tr>\n",
       "      <th>3</th>\n",
       "      <td>8</td>\n",
       "      <td>0</td>\n",
       "      <td>0</td>\n",
       "      <td>0</td>\n",
       "      <td>0</td>\n",
       "      <td>0</td>\n",
       "      <td>0</td>\n",
       "      <td>0</td>\n",
       "      <td>0</td>\n",
       "      <td>0</td>\n",
       "      <td>...</td>\n",
       "      <td>0</td>\n",
       "      <td>0</td>\n",
       "      <td>0</td>\n",
       "      <td>0</td>\n",
       "      <td>0</td>\n",
       "      <td>0</td>\n",
       "      <td>0</td>\n",
       "      <td>0</td>\n",
       "      <td>0</td>\n",
       "      <td>0</td>\n",
       "    </tr>\n",
       "    <tr>\n",
       "      <th>4</th>\n",
       "      <td>8</td>\n",
       "      <td>0</td>\n",
       "      <td>0</td>\n",
       "      <td>0</td>\n",
       "      <td>0</td>\n",
       "      <td>0</td>\n",
       "      <td>0</td>\n",
       "      <td>0</td>\n",
       "      <td>0</td>\n",
       "      <td>0</td>\n",
       "      <td>...</td>\n",
       "      <td>213</td>\n",
       "      <td>203</td>\n",
       "      <td>174</td>\n",
       "      <td>151</td>\n",
       "      <td>188</td>\n",
       "      <td>10</td>\n",
       "      <td>0</td>\n",
       "      <td>0</td>\n",
       "      <td>0</td>\n",
       "      <td>0</td>\n",
       "    </tr>\n",
       "  </tbody>\n",
       "</table>\n",
       "<p>5 rows × 785 columns</p>\n",
       "</div>"
      ]
     },
     "execution_count": 235,
     "metadata": {},
     "output_type": "execute_result"
    }
   ],
   "execution_count": 235
  },
  {
   "metadata": {
    "ExecuteTime": {
     "end_time": "2025-08-28T21:40:26.955577Z",
     "start_time": "2025-08-28T21:40:26.951236Z"
    }
   },
   "cell_type": "code",
   "source": [
    "x=df.iloc[:,1:].values\n",
    "y=df.iloc[:,0].values"
   ],
   "id": "f7197d7baa2b44cf",
   "outputs": [],
   "execution_count": 236
  },
  {
   "metadata": {
    "ExecuteTime": {
     "end_time": "2025-08-28T21:40:27.032870Z",
     "start_time": "2025-08-28T21:40:26.966328Z"
    }
   },
   "cell_type": "code",
   "source": [
    "#train test split\n",
    "x_train, x_test, y_train , y_test=train_test_split(x,y,test_size=0.2, random_state=42)"
   ],
   "id": "9b3a3dbb3faa3ab2",
   "outputs": [],
   "execution_count": 237
  },
  {
   "metadata": {
    "ExecuteTime": {
     "end_time": "2025-08-28T21:40:27.052428Z",
     "start_time": "2025-08-28T21:40:27.038091Z"
    }
   },
   "cell_type": "code",
   "source": [
    "#scaling the data\n",
    "#always divide by float\n",
    "x_train=x_train/255.0\n",
    "x_test=x_test/255.0"
   ],
   "id": "2726ebf10bafb57f",
   "outputs": [],
   "execution_count": 238
  },
  {
   "metadata": {
    "ExecuteTime": {
     "end_time": "2025-08-28T21:40:27.060795Z",
     "start_time": "2025-08-28T21:40:27.057480Z"
    }
   },
   "cell_type": "code",
   "source": [
    "#creating dataset class\n",
    "class customDataset(Dataset):\n",
    "    def __init__(self,features, labels):\n",
    "        self.features=torch.tensor(features,dtype=torch.float32)\n",
    "        self.labels=torch.tensor(labels,dtype=torch.long)\n",
    "    def __len__(self):\n",
    "        return self.features.shape[0]\n",
    "    def __getitem__(self, index):\n",
    "        return self.features[index],self.labels[index]"
   ],
   "id": "c0910ce93416d83a",
   "outputs": [],
   "execution_count": 239
  },
  {
   "metadata": {
    "ExecuteTime": {
     "end_time": "2025-08-28T21:40:27.070401Z",
     "start_time": "2025-08-28T21:40:27.064961Z"
    }
   },
   "cell_type": "code",
   "source": [
    "#creating train & test dataset\n",
    "train_dataset= customDataset(x_train,y_train)\n",
    "test_dataset= customDataset(x_test,y_test)"
   ],
   "id": "7ec8fac7011b317f",
   "outputs": [],
   "execution_count": 240
  },
  {
   "metadata": {
    "ExecuteTime": {
     "end_time": "2025-08-28T21:40:27.077807Z",
     "start_time": "2025-08-28T21:40:27.074637Z"
    }
   },
   "cell_type": "code",
   "source": [
    "#creating dataloader\n",
    "train_dataloader = DataLoader(train_dataset, batch_size=32, shuffle=True)\n",
    "test_dataloader = DataLoader(test_dataset, batch_size=32, shuffle=True)"
   ],
   "id": "570a0b94eee9ee01",
   "outputs": [],
   "execution_count": 241
  },
  {
   "metadata": {
    "ExecuteTime": {
     "end_time": "2025-08-28T21:40:27.084984Z",
     "start_time": "2025-08-28T21:40:27.082176Z"
    }
   },
   "cell_type": "code",
   "source": [
    "#creating nn class\n",
    "class myNN(nn.Module):\n",
    "    def __init__(self, num_features):\n",
    "        super().__init__()\n",
    "        self.network=nn.Sequential(\n",
    "            nn.Linear(num_features, 128),\n",
    "            nn.ReLU(),\n",
    "            nn.Linear(128, 64),\n",
    "            nn.ReLU(),\n",
    "            #not using softmax on the last layer because cross entropy loss already has it\n",
    "            nn.Linear(64, 10)\n",
    "        )\n",
    "    def forward(self, input_matrix):\n",
    "        return self.network(input_matrix)"
   ],
   "id": "1d997cc74c87c315",
   "outputs": [],
   "execution_count": 242
  },
  {
   "metadata": {
    "ExecuteTime": {
     "end_time": "2025-08-28T21:40:27.091418Z",
     "start_time": "2025-08-28T21:40:27.089914Z"
    }
   },
   "cell_type": "code",
   "source": "",
   "id": "fb1bae25c7a4fe6a",
   "outputs": [],
   "execution_count": null
  },
  {
   "metadata": {
    "ExecuteTime": {
     "end_time": "2025-08-28T21:40:27.098726Z",
     "start_time": "2025-08-28T21:40:27.096227Z"
    }
   },
   "cell_type": "code",
   "source": [
    "#learning rate and epoch\n",
    "epochs=100\n",
    "learning_rate=0.01"
   ],
   "id": "6428111babb72f5",
   "outputs": [],
   "execution_count": 243
  },
  {
   "metadata": {
    "ExecuteTime": {
     "end_time": "2025-08-28T21:40:27.108352Z",
     "start_time": "2025-08-28T21:40:27.103144Z"
    }
   },
   "cell_type": "code",
   "source": [
    "#creating model object\n",
    "model=myNN(x.shape[1])\n",
    "#Declaring loss function also and mostly called criterion\n",
    "criterion=nn.CrossEntropyLoss()\n",
    "#optimizer for parameters update\n",
    "optimizer=optim.SGD(model.parameters(),lr=learning_rate)"
   ],
   "id": "2628959d34e09173",
   "outputs": [],
   "execution_count": 244
  },
  {
   "metadata": {
    "ExecuteTime": {
     "end_time": "2025-08-28T21:40:47.112514Z",
     "start_time": "2025-08-28T21:40:27.114238Z"
    }
   },
   "cell_type": "code",
   "source": [
    "#training loop\n",
    "\n",
    "for epoch in range(epochs):\n",
    "    total_epoch_loss=0\n",
    "    for features, labels in train_dataloader:\n",
    "        #forward pass\n",
    "        y_pred=model(features)\n",
    "        #calculating loss\n",
    "        loss=criterion(y_pred,labels)\n",
    "        #resetting the grads to zero  before calculating new\n",
    "        optimizer.zero_grad()\n",
    "        #backpropagation (calculating grads)\n",
    "        loss.backward()\n",
    "        #updating parameters\n",
    "        optimizer.step()\n",
    "\n",
    "        #adding loss from all batches\n",
    "        total_epoch_loss+= loss.item()\n",
    "    avg_loss=total_epoch_loss/len(train_dataloader)\n",
    "    print(\"epoch:\",epoch,\"avg_loss:\",avg_loss)\n",
    "\n",
    "\n",
    "\n",
    "\n",
    "\n"
   ],
   "id": "7dae2588fd04a1bc",
   "outputs": [
    {
     "name": "stdout",
     "output_type": "stream",
     "text": [
      "epoch: 0 avg_loss: 2.236817183494568\n",
      "epoch: 1 avg_loss: 1.9528840390841167\n",
      "epoch: 2 avg_loss: 1.4864923119544984\n",
      "epoch: 3 avg_loss: 1.1698892148335776\n",
      "epoch: 4 avg_loss: 0.9942735199133556\n",
      "epoch: 5 avg_loss: 0.8960168143113454\n",
      "epoch: 6 avg_loss: 0.8343261949221293\n",
      "epoch: 7 avg_loss: 0.7890070615212122\n",
      "epoch: 8 avg_loss: 0.7555474537611008\n",
      "epoch: 9 avg_loss: 0.7287200280030568\n",
      "epoch: 10 avg_loss: 0.7000736107428869\n",
      "epoch: 11 avg_loss: 0.6826658391952515\n",
      "epoch: 12 avg_loss: 0.6608449246486028\n",
      "epoch: 13 avg_loss: 0.6402002318700155\n",
      "epoch: 14 avg_loss: 0.6177434605360032\n",
      "epoch: 15 avg_loss: 0.6091746403773626\n",
      "epoch: 16 avg_loss: 0.5856800532341003\n",
      "epoch: 17 avg_loss: 0.5769095105926195\n",
      "epoch: 18 avg_loss: 0.5645675685008367\n",
      "epoch: 19 avg_loss: 0.5527894032001496\n",
      "epoch: 20 avg_loss: 0.5440935349464416\n",
      "epoch: 21 avg_loss: 0.5340601431330045\n",
      "epoch: 22 avg_loss: 0.5224643723169963\n",
      "epoch: 23 avg_loss: 0.517097928126653\n",
      "epoch: 24 avg_loss: 0.5065705335140228\n",
      "epoch: 25 avg_loss: 0.500227209230264\n",
      "epoch: 26 avg_loss: 0.4924793506662051\n",
      "epoch: 27 avg_loss: 0.48857817232608797\n",
      "epoch: 28 avg_loss: 0.4776081299781799\n",
      "epoch: 29 avg_loss: 0.47643851697444917\n",
      "epoch: 30 avg_loss: 0.4728617505232493\n",
      "epoch: 31 avg_loss: 0.4638358323772748\n",
      "epoch: 32 avg_loss: 0.45856664458910623\n",
      "epoch: 33 avg_loss: 0.4533269278208415\n",
      "epoch: 34 avg_loss: 0.45034381220738096\n",
      "epoch: 35 avg_loss: 0.44718534737825394\n",
      "epoch: 36 avg_loss: 0.43941061516602836\n",
      "epoch: 37 avg_loss: 0.4360252625743548\n",
      "epoch: 38 avg_loss: 0.43142828474442163\n",
      "epoch: 39 avg_loss: 0.4240153491993745\n",
      "epoch: 40 avg_loss: 0.4236097419261932\n",
      "epoch: 41 avg_loss: 0.41556197116772337\n",
      "epoch: 42 avg_loss: 0.41152780830860136\n",
      "epoch: 43 avg_loss: 0.4114221172531446\n",
      "epoch: 44 avg_loss: 0.406743007004261\n",
      "epoch: 45 avg_loss: 0.4020107889175415\n",
      "epoch: 46 avg_loss: 0.3954264995455742\n",
      "epoch: 47 avg_loss: 0.3906098156174024\n",
      "epoch: 48 avg_loss: 0.3893323756257693\n",
      "epoch: 49 avg_loss: 0.38580186148484547\n",
      "epoch: 50 avg_loss: 0.38089372843503955\n",
      "epoch: 51 avg_loss: 0.3779149988293648\n",
      "epoch: 52 avg_loss: 0.3705927394827207\n",
      "epoch: 53 avg_loss: 0.3695256653428078\n",
      "epoch: 54 avg_loss: 0.37068488230307894\n",
      "epoch: 55 avg_loss: 0.367219617664814\n",
      "epoch: 56 avg_loss: 0.3581887162725131\n",
      "epoch: 57 avg_loss: 0.3589542306462924\n",
      "epoch: 58 avg_loss: 0.3535089507699013\n",
      "epoch: 59 avg_loss: 0.3509755249818166\n",
      "epoch: 60 avg_loss: 0.3480172599852085\n",
      "epoch: 61 avg_loss: 0.34199159959952036\n",
      "epoch: 62 avg_loss: 0.3443805646399657\n",
      "epoch: 63 avg_loss: 0.3393356791635354\n",
      "epoch: 64 avg_loss: 0.33622722506523134\n",
      "epoch: 65 avg_loss: 0.33135835429032645\n",
      "epoch: 66 avg_loss: 0.3282052197555701\n",
      "epoch: 67 avg_loss: 0.32470204641421635\n",
      "epoch: 68 avg_loss: 0.32157659381628034\n",
      "epoch: 69 avg_loss: 0.3205759840210279\n",
      "epoch: 70 avg_loss: 0.31384868467847504\n",
      "epoch: 71 avg_loss: 0.31666930263241133\n",
      "epoch: 72 avg_loss: 0.31219182173411053\n",
      "epoch: 73 avg_loss: 0.30860391587018965\n",
      "epoch: 74 avg_loss: 0.3030641228457292\n",
      "epoch: 75 avg_loss: 0.30162470971544586\n",
      "epoch: 76 avg_loss: 0.30136042580008504\n",
      "epoch: 77 avg_loss: 0.3017345454792182\n",
      "epoch: 78 avg_loss: 0.28936451147\n",
      "epoch: 79 avg_loss: 0.29097753164668877\n",
      "epoch: 80 avg_loss: 0.28731097718079884\n",
      "epoch: 81 avg_loss: 0.2864899668345849\n",
      "epoch: 82 avg_loss: 0.2794888524711132\n",
      "epoch: 83 avg_loss: 0.2810109300414721\n",
      "epoch: 84 avg_loss: 0.2790278445680936\n",
      "epoch: 85 avg_loss: 0.2839995287358761\n",
      "epoch: 86 avg_loss: 0.2673263408243656\n",
      "epoch: 87 avg_loss: 0.26939123337467513\n",
      "epoch: 88 avg_loss: 0.27097415054837865\n",
      "epoch: 89 avg_loss: 0.2626915843784809\n",
      "epoch: 90 avg_loss: 0.25990059271454813\n",
      "epoch: 91 avg_loss: 0.25912365699807804\n",
      "epoch: 92 avg_loss: 0.25502414589126904\n",
      "epoch: 93 avg_loss: 0.2541005286574364\n",
      "epoch: 94 avg_loss: 0.24970915081600348\n",
      "epoch: 95 avg_loss: 0.2528776409228643\n",
      "epoch: 96 avg_loss: 0.2557779252032439\n",
      "epoch: 97 avg_loss: 0.2502509359518687\n",
      "epoch: 98 avg_loss: 0.24748168284694352\n",
      "epoch: 99 avg_loss: 0.2411975278953711\n"
     ]
    }
   ],
   "execution_count": 245
  },
  {
   "metadata": {
    "ExecuteTime": {
     "end_time": "2025-08-28T21:40:47.122028Z",
     "start_time": "2025-08-28T21:40:47.117929Z"
    }
   },
   "cell_type": "code",
   "source": [
    "#setting model to eval mode\n",
    "model.eval()"
   ],
   "id": "f8d7bae2aeb9ca09",
   "outputs": [
    {
     "data": {
      "text/plain": [
       "myNN(\n",
       "  (network): Sequential(\n",
       "    (0): Linear(in_features=784, out_features=128, bias=True)\n",
       "    (1): ReLU()\n",
       "    (2): Linear(in_features=128, out_features=64, bias=True)\n",
       "    (3): ReLU()\n",
       "    (4): Linear(in_features=64, out_features=10, bias=True)\n",
       "  )\n",
       ")"
      ]
     },
     "execution_count": 246,
     "metadata": {},
     "output_type": "execute_result"
    }
   ],
   "execution_count": 246
  },
  {
   "metadata": {
    "ExecuteTime": {
     "end_time": "2025-08-28T21:40:47.159778Z",
     "start_time": "2025-08-28T21:40:47.131232Z"
    }
   },
   "cell_type": "code",
   "source": [
    "#evaluation\n",
    "with torch.no_grad():\n",
    "    total=0\n",
    "    correct=0\n",
    "    for features, labels in test_dataloader:\n",
    "        y_predT=model(features)\n",
    "        _,predicted=torch.max(y_predT,1)\n",
    "        total=total+labels.shape[0]\n",
    "        correct+= (predicted==labels).sum().item()\n",
    "print(\"accuracy:\",100*correct/total)\n"
   ],
   "id": "93574219d8c3e37c",
   "outputs": [
    {
     "name": "stdout",
     "output_type": "stream",
     "text": [
      "accuracy: 82.41666666666667\n"
     ]
    }
   ],
   "execution_count": 247
  }
 ],
 "metadata": {
  "kernelspec": {
   "display_name": "Python 3",
   "language": "python",
   "name": "python3"
  },
  "language_info": {
   "codemirror_mode": {
    "name": "ipython",
    "version": 2
   },
   "file_extension": ".py",
   "mimetype": "text/x-python",
   "name": "python",
   "nbconvert_exporter": "python",
   "pygments_lexer": "ipython2",
   "version": "2.7.6"
  }
 },
 "nbformat": 4,
 "nbformat_minor": 5
}
